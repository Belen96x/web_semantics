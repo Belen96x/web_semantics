{
  "cells": [
    {
      "cell_type": "markdown",
      "metadata": {
        "id": "UTN23sbOLI1y"
      },
      "source": [
        "# Foramlising rules with Kanren for Python\n",
        "\n",
        "Below are a couple of examples with one rule each of using Kanren for writing facts and rules and querying those. Using those examples as inspiration, write down the code to implement the rules you have for choosing a type of dog to adopt. Also include the description of a person/household and see what is being inferred from your rule.\n",
        "\n",
        "You might want to think about the kind of interface you could develop on top of your rule-based system to ask the relevant questions to the user and help them decide on the kind of dogs to adopt.\n",
        "\n",
        "**Note:** This is a colab notebook in read-only mode. Don't forget to save a copy before modifying it or you might lose your changes.\n",
        "\n",
        "## Installantion of Kanren and examples\n"
      ]
    },
    {
      "cell_type": "code",
      "execution_count": 2,
      "metadata": {
        "colab": {
          "base_uri": "https://localhost:8080/"
        },
        "id": "z-yCiQpCpiek",
        "outputId": "c11d484c-0abe-4067-a63c-be41408b8f0a"
      },
      "outputs": [
        {
          "name": "stdout",
          "output_type": "stream",
          "text": [
            "Requirement already satisfied: minikanren in c:\\users\\belen\\appdata\\local\\packages\\pythonsoftwarefoundation.python.3.9_qbz5n2kfra8p0\\localcache\\local-packages\\python39\\site-packages (1.0.3)Note: you may need to restart the kernel to use updated packages.\n"
          ]
        },
        {
          "name": "stderr",
          "output_type": "stream",
          "text": [
            "\n",
            "[notice] A new release of pip is available: 23.3.2 -> 24.0\n",
            "[notice] To update, run: C:\\Users\\belen\\AppData\\Local\\Microsoft\\WindowsApps\\PythonSoftwareFoundation.Python.3.9_qbz5n2kfra8p0\\python.exe -m pip install --upgrade pip\n"
          ]
        },
        {
          "name": "stdout",
          "output_type": "stream",
          "text": [
            "\n",
            "Requirement already satisfied: toolz in c:\\users\\belen\\appdata\\local\\packages\\pythonsoftwarefoundation.python.3.9_qbz5n2kfra8p0\\localcache\\local-packages\\python39\\site-packages (from minikanren) (0.12.0)\n",
            "Requirement already satisfied: cons>=0.4.0 in c:\\users\\belen\\appdata\\local\\packages\\pythonsoftwarefoundation.python.3.9_qbz5n2kfra8p0\\localcache\\local-packages\\python39\\site-packages (from minikanren) (0.4.6)\n",
            "Requirement already satisfied: multipledispatch in c:\\users\\belen\\appdata\\local\\packages\\pythonsoftwarefoundation.python.3.9_qbz5n2kfra8p0\\localcache\\local-packages\\python39\\site-packages (from minikanren) (1.0.0)\n",
            "Requirement already satisfied: etuples>=0.3.1 in c:\\users\\belen\\appdata\\local\\packages\\pythonsoftwarefoundation.python.3.9_qbz5n2kfra8p0\\localcache\\local-packages\\python39\\site-packages (from minikanren) (0.3.9)\n",
            "Requirement already satisfied: logical-unification>=0.4.1 in c:\\users\\belen\\appdata\\local\\packages\\pythonsoftwarefoundation.python.3.9_qbz5n2kfra8p0\\localcache\\local-packages\\python39\\site-packages (from minikanren) (0.4.6)\n"
          ]
        }
      ],
      "source": [
        "pip install minikanren"
      ]
    },
    {
      "cell_type": "markdown",
      "metadata": {
        "id": "uBrRcsyNMVNe"
      },
      "source": [
        "This first example is very simple: It only includes one rule, and manipulates only string."
      ]
    },
    {
      "cell_type": "code",
      "execution_count": 3,
      "metadata": {
        "colab": {
          "base_uri": "https://localhost:8080/"
        },
        "id": "unZyT6bApoKe",
        "outputId": "0973cf8b-0197-40f2-e4de-268cb9c57b8b"
      },
      "outputs": [
        {
          "name": "stdout",
          "output_type": "stream",
          "text": [
            "Parent of Bart: ('Homer',)\n",
            "Children of Homer: ('Bart', 'Lisa')\n",
            "Grandparent of Bart: ('Abe',)\n"
          ]
        }
      ],
      "source": [
        "from kanren import Relation, facts, var, run, lall, conde\n",
        "parent = Relation()\n",
        "facts(parent, (\"Homer\", \"Bart\"),\n",
        "              (\"Homer\", \"Lisa\"),\n",
        "              (\"Abe\",  \"Homer\"))\n",
        "x = var()\n",
        "print(\"Parent of Bart:\", run(1, x, parent(x, \"Bart\")))\n",
        "print(\"Children of Homer:\", run(2, x, parent(\"Homer\", x)))\n",
        "\n",
        "def grandparent(x, z):\n",
        "    y = var()\n",
        "    return lall(parent(x, y), parent(y, z))\n",
        "\n",
        "print(\"Grandparent of Bart:\", run(1, x, grandparent(x, 'Bart')))"
      ]
    },
    {
      "cell_type": "markdown",
      "metadata": {
        "id": "ph0rz_3JMc56"
      },
      "source": [
        "This example also only has one rule, but manipulate more complex objects in the form of instances of classes."
      ]
    },
    {
      "cell_type": "code",
      "execution_count": 5,
      "metadata": {
        "colab": {
          "base_uri": "https://localhost:8080/"
        },
        "id": "yrxrWlokr0X8",
        "outputId": "7e224cae-bce0-4a1f-ee71-28270988446d"
      },
      "outputs": [
        {
          "name": "stdout",
          "output_type": "stream",
          "text": [
            "Charlie studies csc135:Python Programming\n",
            "The students of Kirke are Charlie Olivia \n"
          ]
        }
      ],
      "source": [
        "studies = Relation()\n",
        "teaches = Relation()\n",
        "\n",
        "class Person:\n",
        "  def __init__(self, name):\n",
        "    self.name = name\n",
        "  def __str__(self):\n",
        "    return self.name\n",
        "\n",
        "class Course:\n",
        "  def __init__(self, code, topic):\n",
        "    self.code = code\n",
        "    self.topic = topic\n",
        "  def __str__(self):\n",
        "    return self.code+\":\"+self.topic\n",
        "\n",
        "charlie=Person(\"Charlie\")\n",
        "olivia=Person(\"Olivia\")\n",
        "jack=Person(\"Jack\")\n",
        "arthur=Person(\"Arthur\")\n",
        "kirke = Person(\"Kirke\")\n",
        "collins = Person(\"Collins\")\n",
        "juniper = Person(\"Juniper\")\n",
        "\n",
        "csc135 = Course(\"csc135\", \"Python Programming\")\n",
        "csc131 = Course(\"csc131\", \"Computer Architectures\")\n",
        "csc134 = Course(\"csc134\", \"Web Development\")\n",
        "csc171 = Course(\"csc171\", \"Java\")\n",
        "\n",
        "facts(studies, (charlie, csc135), # charlie studies csc135\n",
        "               (olivia, csc135),  # olivia studies csc135\n",
        "               (jack, csc131),    # jack studies csc131\n",
        "               (arthur, csc134))  # arthur studies csc134\n",
        "\n",
        "facts(teaches, (kirke, csc135),   # kirke teaches csc135\n",
        "               (collins, csc131), # collins teaches csc131\n",
        "               (collins, csc171), # collins teaches csc171\n",
        "               (juniper, csc134)) # juniper teaches csc134\n",
        "\n",
        "def professor(x, y): #A rule (!)\n",
        "  c = var() #We don't care about what course here. There's no need to declare it, it will scann it automatically\n",
        "  return conde((teaches(x, c), studies(y, c))) #both of this facts to hold in order to this rule to be true\n",
        "\n",
        "what = var()\n",
        "charlieStu = run(0, what, studies(charlie, what))\n",
        "print(\"Charlie studies\", charlieStu[0])\n",
        "\n",
        "students = var()\n",
        "kirkeStu = run(0, students, professor(kirke, students))\n",
        "print(\"The students of Kirke are\", end=\" \")\n",
        "for s in kirkeStu:\n",
        "  print(s, end=\" \")\n",
        "print()"
      ]
    },
    {
      "cell_type": "markdown",
      "metadata": {
        "id": "QvO7zBYkMmJI"
      },
      "source": [
        "## Your knowledge base\n",
        "\n",
        "Write your code below and test it.\n",
        "\n",
        "Note that in rules, the conde function can be used to express:\n",
        "\n",
        "logical \"and\": conde( (A,B) ) means A and B\n",
        "logical \"or\": conde( [A], [B] ) means A or B\n",
        "\n",
        "The best way to write rules is to several simple ones.\n",
        "\n",
        "It is best to start representing the objects as strings rather than through classes, as it will make it easier to start with."
      ]
    },
    {
      "cell_type": "markdown",
      "metadata": {},
      "source": [
        "I will take into consideration two elements of lifestyle to recommend a group of possibles breeds to a person:\n",
        "1. Level of daily activity\n",
        "2. If they have or they don't have children"
      ]
    },
    {
      "cell_type": "code",
      "execution_count": 15,
      "metadata": {
        "id": "xBT9hBwpMrRG"
      },
      "outputs": [
        {
          "name": "stdout",
          "output_type": "stream",
          "text": [
            "You should adopt ()\n"
          ]
        }
      ],
      "source": [
        "### Rules for level of activity ### \n",
        "adopts = Relation ()\n",
        "active = Relation()\n",
        "\n",
        "\n",
        "# Object orientated approach. Class creations first.\n",
        "class breed:\n",
        "    def __init__(self, name, activity_level):\n",
        "        self.name = name\n",
        "        self.activity_level = activity_level\n",
        "    def __str__(self):\n",
        "        return self.name\n",
        "\n",
        "# Lifestyle characteristics of a potential adopter.\n",
        "\n",
        "class adopter:\n",
        "    def __init__(self, activity_level, children): #Children will be boolean\n",
        "        self.activity_level = activity_level\n",
        "        self.children = children\n",
        "    def __str__(self):\n",
        "        return self.activity_level, self.children\n",
        "\n",
        "# Create instances of the classes to state facts\n",
        "weimaraner = breed('Weimaraner', 'High')\n",
        "beagle = breed('Beagle', 'Low')\n",
        "myself = adopter('High', False)\n",
        "hanady = adopter('Low', True)\n",
        "\n",
        "# Stating facts ? \n",
        "\n",
        "facts(active(myself, weimaraner))\n",
        "\n",
        "def potential_adopter(p, d): #A rule (!)\n",
        "  a = var() #We don't care about what course here. There's no need to declare it, it will scann it automatically\n",
        "  return conde((active(p, a), active(a, d))) #both of this facts to hold in order to this rule to be true\n",
        "\n",
        "which = var()\n",
        "recommendation = run(0, which, active(myself, which))\n",
        "print(\"You should adopt\", recommendation)"
      ]
    },
    {
      "cell_type": "code",
      "execution_count": 26,
      "metadata": {},
      "outputs": [
        {
          "name": "stdout",
          "output_type": "stream",
          "text": [
            "You should adopt Dalmatian\n"
          ]
        }
      ],
      "source": [
        "class dog:\n",
        "    def __init__(self, name):\n",
        "        self.name = name\n",
        "    def __str__(self):\n",
        "        return self.name \n",
        "\n",
        "class person:\n",
        "    def __init__(self,name):\n",
        "        self.name = name\n",
        "    def __str__(self):\n",
        "        return self.name\n",
        "\n",
        "dalmatian = dog('Dalmatian')\n",
        "me = person('Belen')\n",
        "\n",
        "# ------- FACTS ------------\n",
        "\n",
        "activity_levels_dog = Relation ()\n",
        "activity_levels_person = Relation() #Each object needs one relation of its own\n",
        "\n",
        "facts(activity_levels_dog, (dalmatian, 'High energy'))\n",
        "facts(activity_levels_person,(me, 'High energy'))\n",
        "\n",
        "def potential_adopter(p, d): #A rule (!)\n",
        "  a = var() #We don't care about what course here. There's no need to declare it, it will scann it automatically\n",
        "  return conde((activity_levels_dog(d, a), activity_levels_person(p, a))) #both of this facts to hold in order to this rule to be true\n",
        "\n",
        "which = var()\n",
        "recommendation = run(0, which, potential_adopter(me, which))\n",
        "print(\"You should adopt\", recommendation[0])"
      ]
    },
    {
      "cell_type": "code",
      "execution_count": null,
      "metadata": {},
      "outputs": [],
      "source": [
        "class house:\n",
        "    def __init__(self, size, name):\n",
        "        self.size = size\n",
        "        self.name = name\n",
        "    def __str__(self):\n",
        "        return self.size, self.name\n",
        "\n",
        "class dog_breed:\n",
        "    def __init__(self, size, type):\n",
        "        self.size = size\n",
        "        self.type = type\n",
        "    def __str__(self):\n",
        "        return self.size, self.name\n",
        "    \n",
        "size_dog = Relation()\n",
        "size_house = Relation()\n",
        "adopts = Relation()\n",
        "\n",
        "house_a = house('big', 'a')\n",
        "house_b = house('small', 'b')\n",
        "dog_a = dog_breed('big', 'German sheperd')\n",
        "dog_b = dog_breed('small', 'chihuahua')\n",
        "\n",
        "facts(adopts, (house_a, dog_a))\n",
        "\n",
        "\n"
      ]
    }
  ],
  "metadata": {
    "colab": {
      "provenance": []
    },
    "kernelspec": {
      "display_name": "Python 3",
      "name": "python3"
    },
    "language_info": {
      "codemirror_mode": {
        "name": "ipython",
        "version": 3
      },
      "file_extension": ".py",
      "mimetype": "text/x-python",
      "name": "python",
      "nbconvert_exporter": "python",
      "pygments_lexer": "ipython3",
      "version": "3.9.13"
    }
  },
  "nbformat": 4,
  "nbformat_minor": 0
}
